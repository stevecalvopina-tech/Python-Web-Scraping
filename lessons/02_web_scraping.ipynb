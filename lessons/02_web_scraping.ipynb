{
 "cells": [
  {
   "cell_type": "markdown",
   "metadata": {},
   "source": [
    "# Web Scraping with Beautiful Soup\n",
    "\n",
    "* * * \n",
    "\n",
    "### Icons used in this notebook\n",
    "🔔 **Question**: A quick question to help you understand what's going on.<br>\n",
    "🥊 **Challenge**: Interactive exercise. We'll work through these in the workshop!<br>\n",
    "⚠️ **Warning**: Heads-up about tricky stuff or common mistakes.<br>\n",
    "💡 **Tip**: How to do something a bit more efficiently or effectively.<br>\n",
    "🎬 **Demo**: Showing off something more advanced – so you know what Python can be used for!<br>\n",
    "\n",
    "### Learning Objectives\n",
    "1. [Reflection: To Scape Or Not To Scrape](#when)\n",
    "2. [Extracting and Parsing HTML](#extract)\n",
    "3. [Scraping the Illinois General Assembly](#scrape)"
   ]
  },
  {
   "cell_type": "markdown",
   "metadata": {},
   "source": [
    "<a id='when'></a>\n",
    "\n",
    "# To Scrape Or Not To Scrape\n",
    "\n",
    "When we'd like to access data from the web, we first have to make sure if the website we are interested in offers a Web API. Platforms like Twitter, Reddit, and the New York Times offer APIs. **Check out D-Lab's [Python Web APIs](https://github.com/dlab-berkeley/Python-Web-APIs) workshop if you want to learn how to use APIs.**\n",
    "\n",
    "However, there are often cases when a Web API does not exist. In these cases, we may have to resort to web scraping, where we extract the underlying HTML from a web page, and directly obtain the information we want. There are several packages in Python we can use to accomplish these tasks. We'll focus two packages: Requests and Beautiful Soup.\n",
    "\n",
    "Our case study will be scraping information on the [state senators of Illinois](http://www.ilga.gov/senate), as well as the [list of bills](http://www.ilga.gov/senate/SenatorBills.asp?MemberID=1911&GA=98&Primary=True) each senator has sponsored. Before we get started, peruse these websites to take a look at their structure."
   ]
  },
  {
   "cell_type": "markdown",
   "metadata": {},
   "source": [
    "## Installation\n",
    "\n",
    "We will use two main packages: [Requests](http://docs.python-requests.org/en/latest/user/quickstart/) and [Beautiful Soup](http://www.crummy.com/software/BeautifulSoup/bs4/doc/). Go ahead and install these packages, if you haven't already:"
   ]
  },
  {
   "cell_type": "code",
   "execution_count": 1,
   "metadata": {},
   "outputs": [
    {
     "name": "stdout",
     "output_type": "stream",
     "text": [
      "Collecting requests\n",
      "  Using cached requests-2.32.5-py3-none-any.whl.metadata (4.9 kB)\n",
      "Collecting charset_normalizer<4,>=2 (from requests)\n",
      "  Using cached charset_normalizer-3.4.3-cp313-cp313-win_amd64.whl.metadata (37 kB)\n",
      "Collecting idna<4,>=2.5 (from requests)\n",
      "  Using cached idna-3.10-py3-none-any.whl.metadata (10 kB)\n",
      "Collecting urllib3<3,>=1.21.1 (from requests)\n",
      "  Using cached urllib3-2.5.0-py3-none-any.whl.metadata (6.5 kB)\n",
      "Collecting certifi>=2017.4.17 (from requests)\n",
      "  Using cached certifi-2025.8.3-py3-none-any.whl.metadata (2.4 kB)\n",
      "Using cached requests-2.32.5-py3-none-any.whl (64 kB)\n",
      "Using cached charset_normalizer-3.4.3-cp313-cp313-win_amd64.whl (107 kB)\n",
      "Using cached idna-3.10-py3-none-any.whl (70 kB)\n",
      "Using cached urllib3-2.5.0-py3-none-any.whl (129 kB)\n",
      "Using cached certifi-2025.8.3-py3-none-any.whl (161 kB)\n",
      "Installing collected packages: urllib3, idna, charset_normalizer, certifi, requests\n",
      "\n",
      "   ---------------------------------------- 0/5 [urllib3]\n",
      "   ---------------------------------------- 0/5 [urllib3]\n",
      "   ---------------------------------------- 0/5 [urllib3]\n",
      "   ---------------------------------------- 0/5 [urllib3]\n",
      "   ---------------------------------------- 0/5 [urllib3]\n",
      "   ---------------------------------------- 0/5 [urllib3]\n",
      "   ---------------------------------------- 0/5 [urllib3]\n",
      "   -------- ------------------------------- 1/5 [idna]\n",
      "   -------- ------------------------------- 1/5 [idna]\n",
      "   -------- ------------------------------- 1/5 [idna]\n",
      "   ---------------- ----------------------- 2/5 [charset_normalizer]\n",
      "   ---------------- ----------------------- 2/5 [charset_normalizer]\n",
      "   ---------------- ----------------------- 2/5 [charset_normalizer]\n",
      "   ---------------- ----------------------- 2/5 [charset_normalizer]\n",
      "   ---------------- ----------------------- 2/5 [charset_normalizer]\n",
      "   ---------------- ----------------------- 2/5 [charset_normalizer]\n",
      "   ---------------- ----------------------- 2/5 [charset_normalizer]\n",
      "   ---------------- ----------------------- 2/5 [charset_normalizer]\n",
      "   ---------------- ----------------------- 2/5 [charset_normalizer]\n",
      "   -------------------------------- ------- 4/5 [requests]\n",
      "   -------------------------------- ------- 4/5 [requests]\n",
      "   -------------------------------- ------- 4/5 [requests]\n",
      "   -------------------------------- ------- 4/5 [requests]\n",
      "   ---------------------------------------- 5/5 [requests]\n",
      "\n",
      "Successfully installed certifi-2025.8.3 charset_normalizer-3.4.3 idna-3.10 requests-2.32.5 urllib3-2.5.0\n",
      "Note: you may need to restart the kernel to use updated packages.\n"
     ]
    }
   ],
   "source": [
    "%pip install requests\n",
    "#Con este comando se instala el paquete requests, el cual sirve para hacer peticiones\n",
    "#http, sea el metod POST o GET"
   ]
  },
  {
   "cell_type": "code",
   "execution_count": 2,
   "metadata": {},
   "outputs": [
    {
     "name": "stdout",
     "output_type": "stream",
     "text": [
      "Collecting beautifulsoup4\n",
      "  Using cached beautifulsoup4-4.13.5-py3-none-any.whl.metadata (3.8 kB)\n",
      "Collecting soupsieve>1.2 (from beautifulsoup4)\n",
      "  Using cached soupsieve-2.7-py3-none-any.whl.metadata (4.6 kB)\n",
      "Collecting typing-extensions>=4.0.0 (from beautifulsoup4)\n",
      "  Downloading typing_extensions-4.15.0-py3-none-any.whl.metadata (3.3 kB)\n",
      "Using cached beautifulsoup4-4.13.5-py3-none-any.whl (105 kB)\n",
      "Using cached soupsieve-2.7-py3-none-any.whl (36 kB)\n",
      "Downloading typing_extensions-4.15.0-py3-none-any.whl (44 kB)\n",
      "Installing collected packages: typing-extensions, soupsieve, beautifulsoup4\n",
      "\n",
      "   ---------------------------------------- 0/3 [typing-extensions]\n",
      "   ------------- -------------------------- 1/3 [soupsieve]\n",
      "   ------------- -------------------------- 1/3 [soupsieve]\n",
      "   -------------------------- ------------- 2/3 [beautifulsoup4]\n",
      "   -------------------------- ------------- 2/3 [beautifulsoup4]\n",
      "   -------------------------- ------------- 2/3 [beautifulsoup4]\n",
      "   -------------------------- ------------- 2/3 [beautifulsoup4]\n",
      "   -------------------------- ------------- 2/3 [beautifulsoup4]\n",
      "   ---------------------------------------- 3/3 [beautifulsoup4]\n",
      "\n",
      "Successfully installed beautifulsoup4-4.13.5 soupsieve-2.7 typing-extensions-4.15.0\n",
      "Note: you may need to restart the kernel to use updated packages.\n"
     ]
    }
   ],
   "source": [
    "%pip install beautifulsoup4\n",
    "#Con este comando se instala el paquete beautifulsoup4, el cual permite extrae\n",
    "#informacion de documentos html y xml"
   ]
  },
  {
   "cell_type": "markdown",
   "metadata": {},
   "source": [
    "We'll also install the `lxml` package, which helps support some of the parsing that Beautiful Soup performs:"
   ]
  },
  {
   "cell_type": "code",
   "execution_count": 3,
   "metadata": {},
   "outputs": [
    {
     "name": "stdout",
     "output_type": "stream",
     "text": [
      "Collecting lxml\n",
      "  Using cached lxml-6.0.1-cp313-cp313-win_amd64.whl.metadata (3.9 kB)\n",
      "Using cached lxml-6.0.1-cp313-cp313-win_amd64.whl (4.0 MB)\n",
      "Installing collected packages: lxml\n",
      "Successfully installed lxml-6.0.1\n",
      "Note: you may need to restart the kernel to use updated packages.\n"
     ]
    }
   ],
   "source": [
    "%pip install lxml\n",
    "#Con este comando se instala el paquete lxml, el cual permite procesar\n",
    "# documentos html y xml"
   ]
  },
  {
   "cell_type": "code",
   "execution_count": null,
   "metadata": {
    "tags": []
   },
   "outputs": [],
   "source": [
    "# Import required libraries\n",
    "from bs4 import BeautifulSoup #importa la clase BeautifulSoup del paquete bs4\n",
    "from datetime import datetime #importa la clase datetime del paquete datetime\n",
    "import requests  #importa liberia requests\n",
    "import time #importa libreria de tiempo"
   ]
  },
  {
   "cell_type": "markdown",
   "metadata": {},
   "source": [
    "<a id='extract'></a>\n",
    "\n",
    "# Extracting and Parsing HTML \n",
    "\n",
    "In order to succesfully scrape and analyse HTML, we'll be going through the following 4 steps:\n",
    "1. Make a GET request\n",
    "2. Parse the page with Beautiful Soup\n",
    "3. Search for HTML elements\n",
    "4. Get attributes and text of these elements"
   ]
  },
  {
   "cell_type": "markdown",
   "metadata": {},
   "source": [
    "## Step 1: Make a GET Request to Obtain a Page's HTML\n",
    "\n",
    "We can use the Requests library to:\n",
    "\n",
    "1. Make a GET request to the page, and\n",
    "2. Read in the webpage's HTML code.\n",
    "\n",
    "The process of making a request and obtaining a result resembles that of the Web API workflow. Now, however, we're making a request directly to the website, and we're going to have to parse the HTML ourselves. This is in contrast to being provided data organized into a more straightforward `JSON` or `XML` output."
   ]
  },
  {
   "cell_type": "code",
   "execution_count": 4,
   "metadata": {
    "tags": []
   },
   "outputs": [
    {
     "ename": "NameError",
     "evalue": "name 'requests' is not defined",
     "output_type": "error",
     "traceback": [
      "\u001b[31m---------------------------------------------------------------------------\u001b[39m",
      "\u001b[31mNameError\u001b[39m                                 Traceback (most recent call last)",
      "\u001b[36mCell\u001b[39m\u001b[36m \u001b[39m\u001b[32mIn[4]\u001b[39m\u001b[32m, line 2\u001b[39m\n\u001b[32m      1\u001b[39m \u001b[38;5;66;03m# Make a GET request\u001b[39;00m\n\u001b[32m----> \u001b[39m\u001b[32m2\u001b[39m req = \u001b[43mrequests\u001b[49m.get(\u001b[33m'\u001b[39m\u001b[33mhttp://www.ilga.gov/senate/default.asp\u001b[39m\u001b[33m'\u001b[39m) \u001b[38;5;66;03m# Hacemos una peticion get de\u001b[39;00m\n\u001b[32m      3\u001b[39m \u001b[38;5;66;03m#la direccion url\u001b[39;00m\n\u001b[32m      4\u001b[39m \u001b[38;5;66;03m# Read the content of the server’s response\u001b[39;00m\n\u001b[32m      5\u001b[39m src = req.text \u001b[38;5;66;03m# atributo que significa \"source\" (fuente) y se utiliza para especificar\u001b[39;00m\n",
      "\u001b[31mNameError\u001b[39m: name 'requests' is not defined"
     ]
    }
   ],
   "source": [
    "# Make a GET request\n",
    "req = requests.get('http://www.ilga.gov/senate/default.asp') # Hacemos una peticion get de\n",
    "#la direccion url\n",
    "# Read the content of the server’s response\n",
    "src = req.text # atributo que significa \"source\" (fuente) y se utiliza para especificar\n",
    "#la ruta  de un archivo externo, en este caso a un archivo txt\n",
    "# View some output\n",
    "print(src[:1000]) #permite capturar del archivo src los primeros 1000 caracteres del archivo"
   ]
  },
  {
   "cell_type": "markdown",
   "metadata": {},
   "source": [
    "## Step 2: Parse the Page with Beautiful Soup\n",
    "\n",
    "Now, we use the `BeautifulSoup` function to parse the reponse into an HTML tree. This returns an object (called a **soup object**) which contains all of the HTML in the original document.\n",
    "\n",
    "If you run into an error about a parser library, make sure you've installed the `lxml` package to provide Beautiful Soup with the necessary parsing tools."
   ]
  },
  {
   "cell_type": "code",
   "execution_count": 5,
   "metadata": {},
   "outputs": [
    {
     "ename": "NameError",
     "evalue": "name 'BeautifulSoup' is not defined",
     "output_type": "error",
     "traceback": [
      "\u001b[31m---------------------------------------------------------------------------\u001b[39m",
      "\u001b[31mNameError\u001b[39m                                 Traceback (most recent call last)",
      "\u001b[36mCell\u001b[39m\u001b[36m \u001b[39m\u001b[32mIn[5]\u001b[39m\u001b[32m, line 2\u001b[39m\n\u001b[32m      1\u001b[39m \u001b[38;5;66;03m# Parse the response into an HTML tree\u001b[39;00m\n\u001b[32m----> \u001b[39m\u001b[32m2\u001b[39m soup = \u001b[43mBeautifulSoup\u001b[49m(src, \u001b[33m'\u001b[39m\u001b[33mlxml\u001b[39m\u001b[33m'\u001b[39m) \u001b[38;5;66;03m#utiliza la biblioteca Beautiful Soup para analizar\u001b[39;00m\n\u001b[32m      3\u001b[39m \u001b[38;5;66;03m#un documento HTML o XML almacenado en la variable src, lxml especifica el analizador\u001b[39;00m\n\u001b[32m      4\u001b[39m \u001b[38;5;66;03m#que Beautiful Soup debe usar, en este caso, el analizador lxml\u001b[39;00m\n\u001b[32m      5\u001b[39m \u001b[38;5;66;03m# Take a look\u001b[39;00m\n\u001b[32m      6\u001b[39m \u001b[38;5;28mprint\u001b[39m(soup.prettify()[:\u001b[32m1000\u001b[39m]) \u001b[38;5;66;03m#imprime los primeros 1000 caracteres del HTML formateado\u001b[39;00m\n",
      "\u001b[31mNameError\u001b[39m: name 'BeautifulSoup' is not defined"
     ]
    }
   ],
   "source": [
    "# Parse the response into an HTML tree\n",
    "soup = BeautifulSoup(src, 'lxml') #utiliza la biblioteca Beautiful Soup para analizar\n",
    "#un documento HTML o XML almacenado en la variable src, lxml especifica el analizador\n",
    "#que Beautiful Soup debe usar, en este caso, el analizador lxml\n",
    "# Take a look\n",
    "print(soup.prettify()[:1000]) #imprime los primeros 1000 caracteres del HTML formateado\n",
    "#haciendo etl,  que está contenido en la variable soup, la función prettify()\n",
    "#aplica formato al HTML para hacerlo más legible, añadiendo sangría y saltos de línea"
   ]
  },
  {
   "cell_type": "markdown",
   "metadata": {},
   "source": [
    "The output looks pretty similar to the above, but now it's organized in a `soup` object which allows us to more easily traverse the page."
   ]
  },
  {
   "cell_type": "markdown",
   "metadata": {},
   "source": [
    "## Step 3: Search for HTML Elements\n",
    "\n",
    "Beautiful Soup has a number of functions to find useful components on a page. Beautiful Soup lets you find elements by their:\n",
    "\n",
    "1. HTML tags\n",
    "2. HTML Attributes\n",
    "3. CSS Selectors\n",
    "\n",
    "Let's search first for **HTML tags**. \n",
    "\n",
    "The function `find_all` searches the `soup` tree to find all the elements with an a particular HTML tag, and returns all of those elements.\n",
    "\n",
    "What does the example below do?"
   ]
  },
  {
   "cell_type": "code",
   "execution_count": null,
   "metadata": {},
   "outputs": [
    {
     "ename": "NameError",
     "evalue": "name 'soup' is not defined",
     "output_type": "error",
     "traceback": [
      "\u001b[31m---------------------------------------------------------------------------\u001b[39m",
      "\u001b[31mNameError\u001b[39m                                 Traceback (most recent call last)",
      "\u001b[36mCell\u001b[39m\u001b[36m \u001b[39m\u001b[32mIn[6]\u001b[39m\u001b[32m, line 2\u001b[39m\n\u001b[32m      1\u001b[39m \u001b[38;5;66;03m# Find all elements with a certain tag\u001b[39;00m\n\u001b[32m----> \u001b[39m\u001b[32m2\u001b[39m a_tags = \u001b[43msoup\u001b[49m.find_all(\u001b[33m\"\u001b[39m\u001b[33ma\u001b[39m\u001b[33m\"\u001b[39m) \u001b[38;5;66;03m#usa el método find_all() de la biblioteca Beautiful Soup\u001b[39;00m\n\u001b[32m      3\u001b[39m \u001b[38;5;66;03m#para encontrar todas las etiquetas HTML de tipo \"a\" (enlaces) dentro de un documento HTML\u001b[39;00m\n\u001b[32m      4\u001b[39m \u001b[38;5;66;03m# y almacenar todos los resultados en una lista llamada a_tags\u001b[39;00m\n\u001b[32m      5\u001b[39m \u001b[38;5;28mprint\u001b[39m(a_tags[:\u001b[32m10\u001b[39m])\n",
      "\u001b[31mNameError\u001b[39m: name 'soup' is not defined"
     ]
    }
   ],
   "source": [
    "# Find all elements with a certain tag\n",
    "a_tags = soup.find_all(\"a\") #usa el método find_all() de la biblioteca Beautiful Soup\n",
    "#para encontrar todas las etiquetas HTML de tipo \"a\" (enlaces) dentro de un documento HTML\n",
    "# y almacenar todos los resultados en una lista llamada a_tags\n",
    "print(a_tags[:10]) #imprime en la consola los primeros 10 elementos de una variable llamada tags\n",
    "#que se espera que sea una secuencia como una lista o una cadena"
   ]
  },
  {
   "cell_type": "markdown",
   "metadata": {},
   "source": [
    "Because `find_all()` is the most popular method in the Beautiful Soup search API, you can use a shortcut for it. If you treat the BeautifulSoup object as though it were a function, then it’s the same as calling `find_all()` on that object. \n",
    "\n",
    "These two lines of code are equivalent:"
   ]
  },
  {
   "cell_type": "code",
   "execution_count": null,
   "metadata": {
    "tags": []
   },
   "outputs": [
    {
     "ename": "NameError",
     "evalue": "name 'soup' is not defined",
     "output_type": "error",
     "traceback": [
      "\u001b[31m---------------------------------------------------------------------------\u001b[39m",
      "\u001b[31mNameError\u001b[39m                                 Traceback (most recent call last)",
      "\u001b[36mCell\u001b[39m\u001b[36m \u001b[39m\u001b[32mIn[7]\u001b[39m\u001b[32m, line 1\u001b[39m\n\u001b[32m----> \u001b[39m\u001b[32m1\u001b[39m a_tags = \u001b[43msoup\u001b[49m.find_all(\u001b[33m\"\u001b[39m\u001b[33ma\u001b[39m\u001b[33m\"\u001b[39m) \u001b[38;5;66;03m#usa el método find_all() de la biblioteca Beautiful Soup\u001b[39;00m\n\u001b[32m      2\u001b[39m \u001b[38;5;66;03m#para encontrar todas las etiquetas HTML de tipo \"a\" (enlaces) dentro de un documento HTML\u001b[39;00m\n\u001b[32m      3\u001b[39m \u001b[38;5;66;03m# y almacenar todos los resultados en una lista llamada a_tags\u001b[39;00m\n\u001b[32m      4\u001b[39m a_tags_alt = soup(\u001b[33m\"\u001b[39m\u001b[33ma\u001b[39m\u001b[33m\"\u001b[39m) \u001b[38;5;66;03m#usa el método soup de la biblioteca Beautiful Soup\u001b[39;00m\n",
      "\u001b[31mNameError\u001b[39m: name 'soup' is not defined"
     ]
    }
   ],
   "source": [
    "a_tags = soup.find_all(\"a\") #usa el método find_all() de la biblioteca Beautiful Soup\n",
    "#para encontrar todas las etiquetas HTML de tipo \"a\" (enlaces) dentro de un documento HTML\n",
    "# y almacenar todos los resultados en una lista llamada a_tags\n",
    "a_tags_alt = soup(\"a\") #usa el método soup de la biblioteca Beautiful Soup\n",
    "# y almacenar todos los resultados en una lista llamada a_tags_alt\n",
    "print(a_tags[0]) #Imprime la variable a_tags en la posicion 0\n",
    "print(a_tags_alt[0]) #Imprime la variable a_tags_alt en la posicion 0"
   ]
  },
  {
   "cell_type": "markdown",
   "metadata": {},
   "source": [
    "How many links did we obtain?"
   ]
  },
  {
   "cell_type": "code",
   "execution_count": 8,
   "metadata": {},
   "outputs": [
    {
     "ename": "NameError",
     "evalue": "name 'a_tags' is not defined",
     "output_type": "error",
     "traceback": [
      "\u001b[31m---------------------------------------------------------------------------\u001b[39m",
      "\u001b[31mNameError\u001b[39m                                 Traceback (most recent call last)",
      "\u001b[36mCell\u001b[39m\u001b[36m \u001b[39m\u001b[32mIn[8]\u001b[39m\u001b[32m, line 1\u001b[39m\n\u001b[32m----> \u001b[39m\u001b[32m1\u001b[39m \u001b[38;5;28mprint\u001b[39m(\u001b[38;5;28mlen\u001b[39m(\u001b[43ma_tags\u001b[49m)) \u001b[38;5;66;03m#Imprime  el número de elementos que contiene la variable tags\u001b[39;00m\n",
      "\u001b[31mNameError\u001b[39m: name 'a_tags' is not defined"
     ]
    }
   ],
   "source": [
    "print(len(a_tags)) #Imprime  el número de elementos que contiene la variable tags"
   ]
  },
  {
   "cell_type": "markdown",
   "metadata": {},
   "source": [
    "That's a lot! Many elements on a page will have the same HTML tag. For instance, if you search for everything with the `a` tag, you're likely to get more hits, many of which you might not want. Remember, the `a` tag defines a hyperlink, so you'll usually find many on any given page.\n",
    "\n",
    "What if we wanted to search for HTML tags with certain attributes, such as particular CSS classes? \n",
    "\n",
    "We can do this by adding an additional argument to the `find_all`. In the example below, we are finding all the `a` tags, and then filtering those with `class_=\"sidemenu\"`."
   ]
  },
  {
   "cell_type": "code",
   "execution_count": null,
   "metadata": {
    "tags": []
   },
   "outputs": [
    {
     "ename": "NameError",
     "evalue": "name 'soup' is not defined",
     "output_type": "error",
     "traceback": [
      "\u001b[31m---------------------------------------------------------------------------\u001b[39m",
      "\u001b[31mNameError\u001b[39m                                 Traceback (most recent call last)",
      "\u001b[36mCell\u001b[39m\u001b[36m \u001b[39m\u001b[32mIn[9]\u001b[39m\u001b[32m, line 2\u001b[39m\n\u001b[32m      1\u001b[39m \u001b[38;5;66;03m# Get only the 'a' tags in 'sidemenu' class\u001b[39;00m\n\u001b[32m----> \u001b[39m\u001b[32m2\u001b[39m side_menus = \u001b[43msoup\u001b[49m(\u001b[33m\"\u001b[39m\u001b[33ma\u001b[39m\u001b[33m\"\u001b[39m, class_=\u001b[33m\"\u001b[39m\u001b[33msidemenu\u001b[39m\u001b[33m\"\u001b[39m) \u001b[38;5;66;03m#usa el método soup de la biblioteca Beautiful Soup\u001b[39;00m\n\u001b[32m      3\u001b[39m \u001b[38;5;66;03m#almacena en la variable side_menus en donde tiene parametros, con la clase sidemenu\u001b[39;00m\n\u001b[32m      4\u001b[39m \u001b[38;5;66;03m#Es decir esta haciendo una peticion get, o capturando informacion de un menu y sub menu\u001b[39;00m\n\u001b[32m      5\u001b[39m side_menus[:\u001b[32m5\u001b[39m]\n",
      "\u001b[31mNameError\u001b[39m: name 'soup' is not defined"
     ]
    }
   ],
   "source": [
    "# Get only the 'a' tags in 'sidemenu' class\n",
    "side_menus = soup(\"a\", class_=\"sidemenu\") #usa el método soup de la biblioteca Beautiful Soup\n",
    "#almacena en la variable side_menus en donde tiene parametros, con la clase sidemenu\n",
    "#Es decir esta haciendo una peticion get, o capturando informacion de un menu y sub menu\n",
    "side_menus[:5] #la viable side_menus selecciona los primeros 5 elementos"
   ]
  },
  {
   "cell_type": "markdown",
   "metadata": {},
   "source": [
    "A more efficient way to search for elements on a website is via a **CSS selector**. For this we have to use a different method called `select()`. Just pass a string into the `.select()` to get all elements with that string as a valid CSS selector.\n",
    "\n",
    "In the example above, we can use `\"a.sidemenu\"` as a CSS selector, which returns all `a` tags with class `sidemenu`."
   ]
  },
  {
   "cell_type": "code",
   "execution_count": 10,
   "metadata": {
    "tags": []
   },
   "outputs": [
    {
     "ename": "NameError",
     "evalue": "name 'soup' is not defined",
     "output_type": "error",
     "traceback": [
      "\u001b[31m---------------------------------------------------------------------------\u001b[39m",
      "\u001b[31mNameError\u001b[39m                                 Traceback (most recent call last)",
      "\u001b[36mCell\u001b[39m\u001b[36m \u001b[39m\u001b[32mIn[10]\u001b[39m\u001b[32m, line 2\u001b[39m\n\u001b[32m      1\u001b[39m \u001b[38;5;66;03m# Get elements with \"a.sidemenu\" CSS Selector.\u001b[39;00m\n\u001b[32m----> \u001b[39m\u001b[32m2\u001b[39m selected = \u001b[43msoup\u001b[49m.select(\u001b[33m\"\u001b[39m\u001b[33ma.sidemenu\u001b[39m\u001b[33m\"\u001b[39m) \u001b[38;5;66;03m#En la variable selected esta haciendo\u001b[39;00m\n\u001b[32m      3\u001b[39m \u001b[38;5;66;03m#seleccion del menu\u001b[39;00m\n\u001b[32m      4\u001b[39m selected[:\u001b[32m5\u001b[39m] \u001b[38;5;66;03m#esta seleccionando los primeros 5 elementos\u001b[39;00m\n",
      "\u001b[31mNameError\u001b[39m: name 'soup' is not defined"
     ]
    }
   ],
   "source": [
    "# Get elements with \"a.sidemenu\" CSS Selector.\n",
    "selected = soup.select(\"a.sidemenu\") #En la variable selected esta haciendo\n",
    "#seleccion del menu\n",
    "selected[:5] #esta seleccionando los primeros 5 elementos"
   ]
  },
  {
   "cell_type": "markdown",
   "metadata": {},
   "source": [
    "## 🥊 Challenge: Find All\n",
    "\n",
    "Use BeautifulSoup to find all the `a` elements with class `mainmenu`."
   ]
  },
  {
   "cell_type": "code",
   "execution_count": null,
   "metadata": {},
   "outputs": [],
   "source": [
    "# YOUR CODE HERE\n"
   ]
  },
  {
   "cell_type": "markdown",
   "metadata": {},
   "source": [
    "## Step 4: Get Attributes and Text of Elements\n",
    "\n",
    "Once we identify elements, we want the access information in that element. Usually, this means two things:\n",
    "\n",
    "1. Text\n",
    "2. Attributes\n",
    "\n",
    "Getting the text inside an element is easy. All we have to do is use the `text` member of a `tag` object:"
   ]
  },
  {
   "cell_type": "code",
   "execution_count": null,
   "metadata": {
    "tags": []
   },
   "outputs": [
    {
     "ename": "NameError",
     "evalue": "name 'soup' is not defined",
     "output_type": "error",
     "traceback": [
      "\u001b[31m---------------------------------------------------------------------------\u001b[39m",
      "\u001b[31mNameError\u001b[39m                                 Traceback (most recent call last)",
      "\u001b[36mCell\u001b[39m\u001b[36m \u001b[39m\u001b[32mIn[11]\u001b[39m\u001b[32m, line 2\u001b[39m\n\u001b[32m      1\u001b[39m \u001b[38;5;66;03m# Get all sidemenu links as a list\u001b[39;00m\n\u001b[32m----> \u001b[39m\u001b[32m2\u001b[39m side_menu_links = \u001b[43msoup\u001b[49m.select(\u001b[33m\"\u001b[39m\u001b[33ma.sidemenu\u001b[39m\u001b[33m\"\u001b[39m) \u001b[38;5;66;03m# en el menu lateral, los links del menu\u001b[39;00m\n\u001b[32m      3\u001b[39m \u001b[38;5;66;03m#estan seleccionando al submenu/menu lateral\u001b[39;00m\n\u001b[32m      4\u001b[39m \n\u001b[32m      5\u001b[39m \u001b[38;5;66;03m# Examine the first link\u001b[39;00m\n\u001b[32m      6\u001b[39m first_link = side_menu_links[\u001b[32m0\u001b[39m]\n",
      "\u001b[31mNameError\u001b[39m: name 'soup' is not defined"
     ]
    }
   ],
   "source": [
    "# Get all sidemenu links as a list\n",
    "side_menu_links = soup.select(\"a.sidemenu\") # en el menu lateral, los links del menu\n",
    "#estan seleccionando al submenu/menu lateral\n",
    "\n",
    "# Examine the first link\n",
    "first_link = side_menu_links[0] #Se esta guardando el primer elemento de la variable\n",
    "#side_menu_links , en la variable first_link\n",
    "print(first_link) #Imprime la variable first_link\n",
    "\n",
    "# What class is this variable?\n",
    "print('Class: ', type(first_link)) #Imprime la clase, digitando la variable first_link"
   ]
  },
  {
   "cell_type": "markdown",
   "metadata": {},
   "source": [
    "It's a Beautiful Soup tag! This means it has a `text` member:"
   ]
  },
  {
   "cell_type": "code",
   "execution_count": 12,
   "metadata": {
    "tags": []
   },
   "outputs": [
    {
     "ename": "NameError",
     "evalue": "name 'first_link' is not defined",
     "output_type": "error",
     "traceback": [
      "\u001b[31m---------------------------------------------------------------------------\u001b[39m",
      "\u001b[31mNameError\u001b[39m                                 Traceback (most recent call last)",
      "\u001b[36mCell\u001b[39m\u001b[36m \u001b[39m\u001b[32mIn[12]\u001b[39m\u001b[32m, line 1\u001b[39m\n\u001b[32m----> \u001b[39m\u001b[32m1\u001b[39m \u001b[38;5;28mprint\u001b[39m(\u001b[43mfirst_link\u001b[49m.text) \u001b[38;5;66;03m#imprime el archivo .txt\u001b[39;00m\n",
      "\u001b[31mNameError\u001b[39m: name 'first_link' is not defined"
     ]
    }
   ],
   "source": [
    "print(first_link.text) #imprime el archivo .txt"
   ]
  },
  {
   "cell_type": "markdown",
   "metadata": {},
   "source": [
    "Sometimes we want the value of certain attributes. This is particularly relevant for `a` tags, or links, where the `href` attribute tells us where the link goes.\n",
    "\n",
    "💡 **Tip**: You can access a tag’s attributes by treating the tag like a dictionary:"
   ]
  },
  {
   "cell_type": "code",
   "execution_count": 13,
   "metadata": {
    "tags": []
   },
   "outputs": [
    {
     "ename": "NameError",
     "evalue": "name 'first_link' is not defined",
     "output_type": "error",
     "traceback": [
      "\u001b[31m---------------------------------------------------------------------------\u001b[39m",
      "\u001b[31mNameError\u001b[39m                                 Traceback (most recent call last)",
      "\u001b[36mCell\u001b[39m\u001b[36m \u001b[39m\u001b[32mIn[13]\u001b[39m\u001b[32m, line 1\u001b[39m\n\u001b[32m----> \u001b[39m\u001b[32m1\u001b[39m \u001b[38;5;28mprint\u001b[39m(\u001b[43mfirst_link\u001b[49m[\u001b[33m'\u001b[39m\u001b[33mhref\u001b[39m\u001b[33m'\u001b[39m])\u001b[38;5;66;03m#imprime link de pagina web, guardada en la variable\u001b[39;00m\n\u001b[32m      2\u001b[39m \u001b[38;5;66;03m#first_link\u001b[39;00m\n",
      "\u001b[31mNameError\u001b[39m: name 'first_link' is not defined"
     ]
    }
   ],
   "source": [
    "print(first_link['href'])#imprime link de pagina web, guardada en la variable\n",
    "#first_link"
   ]
  },
  {
   "cell_type": "markdown",
   "metadata": {},
   "source": [
    "## 🥊 Challenge: Extract specific attributes\n",
    "\n",
    "Extract all `href` attributes for each `mainmenu` URL."
   ]
  },
  {
   "cell_type": "code",
   "execution_count": null,
   "metadata": {},
   "outputs": [],
   "source": [
    "# YOUR CODE HERE\n"
   ]
  },
  {
   "cell_type": "markdown",
   "metadata": {},
   "source": [
    "<a id='scrape'></a>\n",
    "\n",
    "# Scraping the Illinois General Assembly\n",
    "\n",
    "Believe it or not, those are really the fundamental tools you need to scrape a website. Once you spend more time familiarizing yourself with HTML and CSS, then it's simply a matter of understanding the structure of a particular website and intelligently applying the tools of Beautiful Soup and Python.\n",
    "\n",
    "Let's apply these skills to scrape the [Illinois 98th General Assembly](http://www.ilga.gov/senate/default.asp?GA=98).\n",
    "\n",
    "Specifically, our goal is to scrape information on each senator, including their name, district, and party."
   ]
  },
  {
   "cell_type": "markdown",
   "metadata": {},
   "source": [
    "## Scrape and Soup the Webpage\n",
    "\n",
    "Let's scrape and parse the webpage, using the tools we learned in the previous section."
   ]
  },
  {
   "cell_type": "code",
   "execution_count": null,
   "metadata": {
    "tags": []
   },
   "outputs": [
    {
     "ename": "NameError",
     "evalue": "name 'requests' is not defined",
     "output_type": "error",
     "traceback": [
      "\u001b[31m---------------------------------------------------------------------------\u001b[39m",
      "\u001b[31mNameError\u001b[39m                                 Traceback (most recent call last)",
      "\u001b[36mCell\u001b[39m\u001b[36m \u001b[39m\u001b[32mIn[14]\u001b[39m\u001b[32m, line 2\u001b[39m\n\u001b[32m      1\u001b[39m \u001b[38;5;66;03m# Make a GET request\u001b[39;00m\n\u001b[32m----> \u001b[39m\u001b[32m2\u001b[39m req = \u001b[43mrequests\u001b[49m.get(\u001b[33m'\u001b[39m\u001b[33mhttp://www.ilga.gov/senate/default.asp?GA=98\u001b[39m\u001b[33m'\u001b[39m) \u001b[38;5;66;03m# en el objeto\u001b[39;00m\n\u001b[32m      3\u001b[39m \u001b[38;5;66;03m#req hacemos una peticio get de la URL seleccionada\u001b[39;00m\n\u001b[32m      4\u001b[39m \u001b[38;5;66;03m# Read the content of the server’s response\u001b[39;00m\n\u001b[32m      5\u001b[39m src = req.text \u001b[38;5;66;03m# atributo que significa \"source\" (fuente) y se utiliza para especificar\u001b[39;00m\n",
      "\u001b[31mNameError\u001b[39m: name 'requests' is not defined"
     ]
    }
   ],
   "source": [
    "# Make a GET request\n",
    "req = requests.get('http://www.ilga.gov/senate/default.asp?GA=98') # en el objeto\n",
    "#req hacemos una peticio get de la URL seleccionada\n",
    "# Read the content of the server’s response\n",
    "src = req.text # atributo que significa \"source\" (fuente) y se utiliza para especificar\n",
    "#la ruta  de un archivo externo, en este caso a un archivo txt\n",
    "# Soup it\n",
    "soup = BeautifulSoup(src, \"lxml\") #utiliza la biblioteca Beautiful Soup para analizar\n",
    "#un documento HTML o XML almacenado en la variable src, lxml especifica el analizador\n",
    "#que Beautiful Soup debe usar, en este caso, el analizador lxml"
   ]
  },
  {
   "cell_type": "markdown",
   "metadata": {},
   "source": [
    "## Search for the Table Elements\n",
    "\n",
    "Our goal is to obtain the elements in the table on the webpage. Remember: rows are identified by the `tr` tag. Let's use `find_all` to obtain these elements."
   ]
  },
  {
   "cell_type": "code",
   "execution_count": 15,
   "metadata": {},
   "outputs": [
    {
     "ename": "NameError",
     "evalue": "name 'soup' is not defined",
     "output_type": "error",
     "traceback": [
      "\u001b[31m---------------------------------------------------------------------------\u001b[39m",
      "\u001b[31mNameError\u001b[39m                                 Traceback (most recent call last)",
      "\u001b[36mCell\u001b[39m\u001b[36m \u001b[39m\u001b[32mIn[15]\u001b[39m\u001b[32m, line 2\u001b[39m\n\u001b[32m      1\u001b[39m \u001b[38;5;66;03m# Get all table row elements\u001b[39;00m\n\u001b[32m----> \u001b[39m\u001b[32m2\u001b[39m rows = \u001b[43msoup\u001b[49m.find_all(\u001b[33m\"\u001b[39m\u001b[33mtr\u001b[39m\u001b[33m\"\u001b[39m)  \u001b[38;5;66;03m#usa el método find_all() de la biblioteca Beautiful Soup\u001b[39;00m\n\u001b[32m      3\u001b[39m \u001b[38;5;66;03m#para encontrar todas las etiquetas HTML de tipo \"tr\" (enlaces) dentro de un documento HTML\u001b[39;00m\n\u001b[32m      4\u001b[39m \u001b[38;5;66;03m# y almacenar todos los resultados en una lista llamada rows\u001b[39;00m\n\u001b[32m      5\u001b[39m \u001b[38;5;28mlen\u001b[39m(rows) \u001b[38;5;66;03m#Longitud de elementos de rows\u001b[39;00m\n",
      "\u001b[31mNameError\u001b[39m: name 'soup' is not defined"
     ]
    }
   ],
   "source": [
    "# Get all table row elements\n",
    "rows = soup.find_all(\"tr\")  #usa el método find_all() de la biblioteca Beautiful Soup\n",
    "#para encontrar todas las etiquetas HTML de tipo \"tr\" (enlaces) dentro de un documento HTML\n",
    "# y almacenar todos los resultados en una lista llamada rows\n",
    "len(rows) #Longitud de elementos de rows"
   ]
  },
  {
   "cell_type": "markdown",
   "metadata": {},
   "source": [
    "⚠️ **Warning**: Keep in mind: `find_all` gets *all* the elements with the `tr` tag. We only want some of them. If we use the 'Inspect' function in Google Chrome and look carefully, then we can use some CSS selectors to get just the rows we're interested in. Specifically, we want the inner rows of the table:"
   ]
  },
  {
   "cell_type": "code",
   "execution_count": null,
   "metadata": {},
   "outputs": [
    {
     "ename": "NameError",
     "evalue": "name 'soup' is not defined",
     "output_type": "error",
     "traceback": [
      "\u001b[31m---------------------------------------------------------------------------\u001b[39m",
      "\u001b[31mNameError\u001b[39m                                 Traceback (most recent call last)",
      "\u001b[36mCell\u001b[39m\u001b[36m \u001b[39m\u001b[32mIn[16]\u001b[39m\u001b[32m, line 2\u001b[39m\n\u001b[32m      1\u001b[39m \u001b[38;5;66;03m# Returns every ‘tr tr tr’ css selector in the page\u001b[39;00m\n\u001b[32m----> \u001b[39m\u001b[32m2\u001b[39m rows = \u001b[43msoup\u001b[49m.select(\u001b[33m'\u001b[39m\u001b[33mtr tr tr\u001b[39m\u001b[33m'\u001b[39m)\n\u001b[32m      4\u001b[39m \u001b[38;5;28;01mfor\u001b[39;00m row \u001b[38;5;129;01min\u001b[39;00m rows[:\u001b[32m5\u001b[39m]:\u001b[38;5;66;03m#es una expresión de BeautifulSoup \\n\",\u001b[39;00m\n\u001b[32m      5\u001b[39m \u001b[38;5;66;03m#que utiliza selectores CSS para encontrar todos los elementos \\n\",\u001b[39;00m\n\u001b[32m      6\u001b[39m \u001b[38;5;66;03m#<tr> (filas de tabla) anidados dentro de otras filas <tr> \\n\",\u001b[39;00m\n\u001b[32m      7\u001b[39m \u001b[38;5;66;03m#dentro de un documento HTML\u001b[39;00m\n\u001b[32m      8\u001b[39m     \u001b[38;5;28mprint\u001b[39m(row, \u001b[33m'\u001b[39m\u001b[38;5;130;01m\\n\u001b[39;00m\u001b[33m'\u001b[39m)\n",
      "\u001b[31mNameError\u001b[39m: name 'soup' is not defined"
     ]
    }
   ],
   "source": [
    "# Returns every ‘tr tr tr’ css selector in the page\n",
    "rows = soup.select('tr tr tr')#es una expresión de BeautifulSoup \n",
    "#que utiliza selectores CSS para encontrar todos los elementos\n",
    "#<tr> (filas de tabla) anidados dentro de otras filas <tr> \n",
    "#dentro de un documento HTML\n",
    "\n",
    "for row in rows[:5]: #Bucle for de la variable row de los 5 primero elementos\n",
    "    print(row, '\\n') #para imprimir las variables hasta que llegue 5 con un salto de linea"
   ]
  },
  {
   "cell_type": "markdown",
   "metadata": {},
   "source": [
    "It looks like we want everything after the first two rows. Let's work with a single row to start, and build our loop from there."
   ]
  },
  {
   "cell_type": "code",
   "execution_count": 17,
   "metadata": {},
   "outputs": [
    {
     "ename": "NameError",
     "evalue": "name 'rows' is not defined",
     "output_type": "error",
     "traceback": [
      "\u001b[31m---------------------------------------------------------------------------\u001b[39m",
      "\u001b[31mNameError\u001b[39m                                 Traceback (most recent call last)",
      "\u001b[36mCell\u001b[39m\u001b[36m \u001b[39m\u001b[32mIn[17]\u001b[39m\u001b[32m, line 1\u001b[39m\n\u001b[32m----> \u001b[39m\u001b[32m1\u001b[39m example_row = \u001b[43mrows\u001b[49m[\u001b[32m2\u001b[39m] \u001b[38;5;66;03m# en la variable exampe_row se guarda los dos primero elementos\u001b[39;00m\n\u001b[32m      2\u001b[39m \u001b[38;5;28mprint\u001b[39m(example_row.prettify()) \u001b[38;5;66;03m#el resultado del método prettify() del objeto\u001b[39;00m\n\u001b[32m      3\u001b[39m \u001b[38;5;66;03m#example row. prettify()\u001b[39;00m\n",
      "\u001b[31mNameError\u001b[39m: name 'rows' is not defined"
     ]
    }
   ],
   "source": [
    "example_row = rows[2] # en la variable exampe_row se guarda los dos primero elementos\n",
    "print(example_row.prettify()) #el resultado del método prettify() del objeto\n",
    "#example row. prettify()"
   ]
  },
  {
   "cell_type": "markdown",
   "metadata": {},
   "source": [
    "Let's break this row down into its component cells/columns using the `select` method with CSS selectors. Looking closely at the HTML, there are a couple of ways we could do this.\n",
    "\n",
    "* We could identify the cells by their tag `td`.\n",
    "* We could use the the class name `.detail`.\n",
    "* We could combine both and use the selector `td.detail`."
   ]
  },
  {
   "cell_type": "code",
   "execution_count": 19,
   "metadata": {},
   "outputs": [
    {
     "ename": "NameError",
     "evalue": "name 'example_row' is not defined",
     "output_type": "error",
     "traceback": [
      "\u001b[31m---------------------------------------------------------------------------\u001b[39m",
      "\u001b[31mNameError\u001b[39m                                 Traceback (most recent call last)",
      "\u001b[36mCell\u001b[39m\u001b[36m \u001b[39m\u001b[32mIn[19]\u001b[39m\u001b[32m, line 1\u001b[39m\n\u001b[32m----> \u001b[39m\u001b[32m1\u001b[39m \u001b[38;5;28;01mfor\u001b[39;00m cell \u001b[38;5;129;01min\u001b[39;00m \u001b[43mexample_row\u001b[49m.select(\u001b[33m'\u001b[39m\u001b[33mtd\u001b[39m\u001b[33m'\u001b[39m): \u001b[38;5;66;03m#sobre cada celda (td) dentro de una fila (example_row)\u001b[39;00m\n\u001b[32m      2\u001b[39m     \u001b[38;5;28mprint\u001b[39m(cell) \u001b[38;5;66;03m#y luego imprime el contenido de cada celda, la función print() al final imprime una línea nueva\u001b[39;00m\n\u001b[32m      3\u001b[39m \u001b[38;5;28mprint\u001b[39m() \u001b[38;5;66;03m#para un espacio entre la salida de cada celda y la siguiente\u001b[39;00m\n",
      "\u001b[31mNameError\u001b[39m: name 'example_row' is not defined"
     ]
    }
   ],
   "source": [
    "for cell in example_row.select('td'): #sobre cada celda (td) dentro de una fila (example_row)\n",
    "    print(cell) #y luego imprime el contenido de cada celda, la función print() al final imprime una línea nueva\n",
    "print() #para un espacio entre la salida de cada celda y la siguiente\n",
    "\n",
    "for cell in example_row.select('.detail'): #sobre cada clase (.detail) dentro de una fila (example_row)\n",
    "    print(cell) #y luego imprime el contenido de cada celda, la función print() al final imprime una línea nueva\n",
    "print() #para un espacio entre la salida de cada celda y la siguiente\n",
    "\n",
    "for cell in example_row.select('td.detail'): #sobre cada clase combinada con la celda (td.detail) dentro de una fila (example_row)\n",
    "    print(cell) #y luego imprime el contenido de cada celda, la función print() al final imprime una línea nueva\n",
    "print() #para un espacio entre la salida de cada celda y la siguiente"
   ]
  },
  {
   "cell_type": "markdown",
   "metadata": {},
   "source": [
    "We can confirm that these are all the same."
   ]
  },
  {
   "cell_type": "code",
   "execution_count": null,
   "metadata": {
    "tags": []
   },
   "outputs": [
    {
     "ename": "NameError",
     "evalue": "name 'example_row' is not defined",
     "output_type": "error",
     "traceback": [
      "\u001b[31m---------------------------------------------------------------------------\u001b[39m",
      "\u001b[31mNameError\u001b[39m                                 Traceback (most recent call last)",
      "\u001b[36mCell\u001b[39m\u001b[36m \u001b[39m\u001b[32mIn[20]\u001b[39m\u001b[32m, line 1\u001b[39m\n\u001b[32m----> \u001b[39m\u001b[32m1\u001b[39m \u001b[38;5;28;01massert\u001b[39;00m \u001b[43mexample_row\u001b[49m.select(\u001b[33m'\u001b[39m\u001b[33mtd\u001b[39m\u001b[33m'\u001b[39m) == example_row.select(\u001b[33m'\u001b[39m\u001b[33m.detail\u001b[39m\u001b[33m'\u001b[39m) == example_row.select(\u001b[33m'\u001b[39m\u001b[33mtd.detail\u001b[39m\u001b[33m'\u001b[39m)\n\u001b[32m      2\u001b[39m \u001b[38;5;66;03m#se está verificando que tres selecciones de elementos HTML en example_row resultan en el \\n\",\u001b[39;00m\n\u001b[32m      3\u001b[39m \u001b[38;5;66;03m#mismo conjunto de elementos, lo cual es una condición que solo será cierta si todos los \\n\",\u001b[39;00m\n\u001b[32m      4\u001b[39m \u001b[38;5;66;03m#elementos <td> (celdas de tabla) tienen la clase detail, y no hay otros elementos <td> que no \\n\",\u001b[39;00m\n\u001b[32m      5\u001b[39m \u001b[38;5;66;03m#la tengan, ni otros elementos con la clase detail que no sean <td>\u001b[39;00m\n",
      "\u001b[31mNameError\u001b[39m: name 'example_row' is not defined"
     ]
    }
   ],
   "source": [
    "assert example_row.select('td') == example_row.select('.detail') == example_row.select('td.detail')\n",
    "#se está verificando que tres selecciones de elementos HTML en example_row resultan en el \n",
    "#mismo conjunto de elementos, lo cual es una condición que solo será cierta si todos los\n",
    "#elementos <td> (celdas de tabla) tienen la clase detail, y no hay otros elementos <td> que no\n",
    "#la tengan, ni otros elementos con la clase detail que no sean <td>"
   ]
  },
  {
   "cell_type": "markdown",
   "metadata": {},
   "source": [
    "Let's use the selector `td.detail` to be as specific as possible."
   ]
  },
  {
   "cell_type": "code",
   "execution_count": 21,
   "metadata": {},
   "outputs": [
    {
     "ename": "NameError",
     "evalue": "name 'example_row' is not defined",
     "output_type": "error",
     "traceback": [
      "\u001b[31m---------------------------------------------------------------------------\u001b[39m",
      "\u001b[31mNameError\u001b[39m                                 Traceback (most recent call last)",
      "\u001b[36mCell\u001b[39m\u001b[36m \u001b[39m\u001b[32mIn[21]\u001b[39m\u001b[32m, line 2\u001b[39m\n\u001b[32m      1\u001b[39m \u001b[38;5;66;03m# Select only those 'td' tags with class 'detail' \u001b[39;00m\n\u001b[32m----> \u001b[39m\u001b[32m2\u001b[39m detail_cells = \u001b[43mexample_row\u001b[49m.select(\u001b[33m'\u001b[39m\u001b[33mtd.detail\u001b[39m\u001b[33m'\u001b[39m) \u001b[38;5;66;03m#es una operación común en el raspado web o \u001b[39;00m\n\u001b[32m      3\u001b[39m \u001b[38;5;66;03m#análisis de contenido HTML/XML, particularmente cuando se utilizan bibliotecas como \u001b[39;00m\n\u001b[32m      4\u001b[39m \u001b[38;5;66;03m#Beautiful Soup en Python o herramientas de manipulación DOM similares en otros lenguajes\u001b[39;00m\n\u001b[32m      5\u001b[39m detail_cells\n",
      "\u001b[31mNameError\u001b[39m: name 'example_row' is not defined"
     ]
    }
   ],
   "source": [
    "# Select only those 'td' tags with class 'detail' \n",
    "detail_cells = example_row.select('td.detail') #es una operación común en el raspado web o \n",
    "#análisis de contenido HTML/XML, particularmente cuando se utilizan bibliotecas como \n",
    "#Beautiful Soup en Python o herramientas de manipulación DOM similares en otros lenguajes\n",
    "detail_cells\n"
   ]
  },
  {
   "cell_type": "markdown",
   "metadata": {},
   "source": [
    "Most of the time, we're interested in the actual **text** of a website, not its tags. Recall that to get the text of an HTML element, we use the `text` member:"
   ]
  },
  {
   "cell_type": "code",
   "execution_count": 22,
   "metadata": {},
   "outputs": [
    {
     "ename": "NameError",
     "evalue": "name 'detail_cells' is not defined",
     "output_type": "error",
     "traceback": [
      "\u001b[31m---------------------------------------------------------------------------\u001b[39m",
      "\u001b[31mNameError\u001b[39m                                 Traceback (most recent call last)",
      "\u001b[36mCell\u001b[39m\u001b[36m \u001b[39m\u001b[32mIn[22]\u001b[39m\u001b[32m, line 2\u001b[39m\n\u001b[32m      1\u001b[39m \u001b[38;5;66;03m# Keep only the text in each of those cells\u001b[39;00m\n\u001b[32m----> \u001b[39m\u001b[32m2\u001b[39m row_data = [cell.text \u001b[38;5;28;01mfor\u001b[39;00m cell \u001b[38;5;129;01min\u001b[39;00m \u001b[43mdetail_cells\u001b[49m] \u001b[38;5;66;03m#crea una secuencia de texto extraído \u001b[39;00m\n\u001b[32m      3\u001b[39m \u001b[38;5;66;03m#de cada elemento cell dentro de la lista detail_cells\u001b[39;00m\n\u001b[32m      5\u001b[39m \u001b[38;5;28mprint\u001b[39m(row_data) \u001b[38;5;66;03m#Imprime la variable row_data\u001b[39;00m\n",
      "\u001b[31mNameError\u001b[39m: name 'detail_cells' is not defined"
     ]
    }
   ],
   "source": [
    "# Keep only the text in each of those cells\n",
    "row_data = [cell.text for cell in detail_cells] #crea una secuencia de texto extraído \n",
    "#de cada elemento cell dentro de la lista detail_cells\n",
    "\n",
    "print(row_data) #Imprime la variable row_data"
   ]
  },
  {
   "cell_type": "markdown",
   "metadata": {},
   "source": [
    "Looks good! Now we just use our basic Python knowledge to get the elements of this list that we want. Remember, we want the senator's name, their district, and their party."
   ]
  },
  {
   "cell_type": "code",
   "execution_count": 23,
   "metadata": {},
   "outputs": [
    {
     "ename": "NameError",
     "evalue": "name 'row_data' is not defined",
     "output_type": "error",
     "traceback": [
      "\u001b[31m---------------------------------------------------------------------------\u001b[39m",
      "\u001b[31mNameError\u001b[39m                                 Traceback (most recent call last)",
      "\u001b[36mCell\u001b[39m\u001b[36m \u001b[39m\u001b[32mIn[23]\u001b[39m\u001b[32m, line 1\u001b[39m\n\u001b[32m----> \u001b[39m\u001b[32m1\u001b[39m \u001b[38;5;28mprint\u001b[39m(\u001b[43mrow_data\u001b[49m[\u001b[32m0\u001b[39m]) \u001b[38;5;66;03m# Name #Imprime la variable row_data en la posicion 0 o primer elemento\u001b[39;00m\n\u001b[32m      2\u001b[39m \u001b[38;5;28mprint\u001b[39m(row_data[\u001b[32m3\u001b[39m]) \u001b[38;5;66;03m# District #Imprime la variable row_data en la posicion 3 o cuarto elemento\u001b[39;00m\n\u001b[32m      3\u001b[39m \u001b[38;5;28mprint\u001b[39m(row_data[\u001b[32m4\u001b[39m]) \u001b[38;5;66;03m# Party #Imprime la variable row_data en la posicion 4 o quinto elemento\u001b[39;00m\n",
      "\u001b[31mNameError\u001b[39m: name 'row_data' is not defined"
     ]
    }
   ],
   "source": [
    "print(row_data[0]) # Name #Imprime la variable row_data en la posicion 0 o primer elemento\n",
    "print(row_data[3]) # District #Imprime la variable row_data en la posicion 3 o cuarto elemento\n",
    "print(row_data[4]) # Party #Imprime la variable row_data en la posicion 4 o quinto elemento"
   ]
  },
  {
   "cell_type": "markdown",
   "metadata": {},
   "source": [
    "## Getting Rid of Junk Rows\n",
    "\n",
    "We saw at the beginning that not all of the rows we got actually correspond to a senator. We'll need to do some cleaning before we can proceed forward. Take a look at some examples:"
   ]
  },
  {
   "cell_type": "code",
   "execution_count": 24,
   "metadata": {},
   "outputs": [
    {
     "ename": "NameError",
     "evalue": "name 'rows' is not defined",
     "output_type": "error",
     "traceback": [
      "\u001b[31m---------------------------------------------------------------------------\u001b[39m",
      "\u001b[31mNameError\u001b[39m                                 Traceback (most recent call last)",
      "\u001b[36mCell\u001b[39m\u001b[36m \u001b[39m\u001b[32mIn[24]\u001b[39m\u001b[32m, line 1\u001b[39m\n\u001b[32m----> \u001b[39m\u001b[32m1\u001b[39m \u001b[38;5;28mprint\u001b[39m(\u001b[33m'\u001b[39m\u001b[33mRow 0:\u001b[39m\u001b[38;5;130;01m\\n\u001b[39;00m\u001b[33m'\u001b[39m, \u001b[43mrows\u001b[49m[\u001b[32m0\u001b[39m], \u001b[33m'\u001b[39m\u001b[38;5;130;01m\\n\u001b[39;00m\u001b[33m'\u001b[39m) \u001b[38;5;66;03m#Imprime  la cadena \\\"Row 0:\\\", seguida de un salto de línea\u001b[39;00m\n\u001b[32m      2\u001b[39m \u001b[38;5;66;03m#el contenido del primer elemento (índice 0) de la variable rows, y finalmente otro salto de línea\u001b[39;00m\n\u001b[32m      3\u001b[39m \u001b[38;5;28mprint\u001b[39m(\u001b[33m'\u001b[39m\u001b[33mRow 1:\u001b[39m\u001b[38;5;130;01m\\n\u001b[39;00m\u001b[33m'\u001b[39m, rows[\u001b[32m1\u001b[39m], \u001b[33m'\u001b[39m\u001b[38;5;130;01m\\n\u001b[39;00m\u001b[33m'\u001b[39m) \u001b[38;5;66;03m#Imprime  la cadena \\\"Row 1:\\\", seguida de un salto de línea\u001b[39;00m\n",
      "\u001b[31mNameError\u001b[39m: name 'rows' is not defined"
     ]
    }
   ],
   "source": [
    "print('Row 0:\\n', rows[0], '\\n') #Imprime  la cadena \\\"Row 0:\\\", seguida de un salto de línea\n",
    "#el contenido del primer elemento (índice 0) de la variable rows, y finalmente otro salto de línea\n",
    "print('Row 1:\\n', rows[1], '\\n') #Imprime  la cadena \\\"Row 1:\\\", seguida de un salto de línea\n",
    "#el contenido del segundo elemento (índice 1) de la variable rows, y finalmente otro salto de línea\n",
    "print('Last Row:\\n', rows[-1]) #Imprime  la cadena \\\"Last Row:\\\", seguida de un salto de línea\n",
    "#el contenido del ultimo elemento (índice -1) de la variable rows, y finalmente otro salto de línea"
   ]
  },
  {
   "cell_type": "markdown",
   "metadata": {},
   "source": [
    "When we write our for loop, we only want it to apply to the relevant rows. So we'll need to filter out the irrelevant rows. The way to do this is to compare some of these to the rows we do want, see how they differ, and then formulate that in a conditional.\n",
    "\n",
    "As you can imagine, there a lot of possible ways to do this, and it'll depend on the website. We'll show some here to give you an idea of how to do this."
   ]
  },
  {
   "cell_type": "code",
   "execution_count": 25,
   "metadata": {},
   "outputs": [
    {
     "ename": "NameError",
     "evalue": "name 'rows' is not defined",
     "output_type": "error",
     "traceback": [
      "\u001b[31m---------------------------------------------------------------------------\u001b[39m",
      "\u001b[31mNameError\u001b[39m                                 Traceback (most recent call last)",
      "\u001b[36mCell\u001b[39m\u001b[36m \u001b[39m\u001b[32mIn[25]\u001b[39m\u001b[32m, line 2\u001b[39m\n\u001b[32m      1\u001b[39m \u001b[38;5;66;03m# Bad rows\u001b[39;00m\n\u001b[32m----> \u001b[39m\u001b[32m2\u001b[39m \u001b[38;5;28mprint\u001b[39m(\u001b[38;5;28mlen\u001b[39m(\u001b[43mrows\u001b[49m[\u001b[32m0\u001b[39m])) \u001b[38;5;66;03m#Imprime la longitud de la cedana rows en la posicion 0 /primer elemento\u001b[39;00m\n\u001b[32m      3\u001b[39m \u001b[38;5;28mprint\u001b[39m(\u001b[38;5;28mlen\u001b[39m(rows[\u001b[32m1\u001b[39m])) \u001b[38;5;66;03m#Imprime la longitud de la cedana rows en la posicion 1 /segundo elemento\u001b[39;00m\n\u001b[32m      5\u001b[39m \u001b[38;5;66;03m# Good rows\u001b[39;00m\n",
      "\u001b[31mNameError\u001b[39m: name 'rows' is not defined"
     ]
    }
   ],
   "source": [
    "# Bad rows\n",
    "print(len(rows[0])) #Imprime la longitud de la cedana rows en la posicion 0 /primer elemento\n",
    "print(len(rows[1])) #Imprime la longitud de la cedana rows en la posicion 1 /segundo elemento\n",
    "\n",
    "# Good rows\n",
    "print(len(rows[2])) #Imprime la longitud de la cedana rows en la posicion 2 /tercer elemento\n",
    "print(len(rows[3])) #Imprime la longitud de la cedana rows en la posicion 3 /cuarto elemento"
   ]
  },
  {
   "cell_type": "markdown",
   "metadata": {},
   "source": [
    "Perhaps good rows have a length of 5. Let's check:"
   ]
  },
  {
   "cell_type": "code",
   "execution_count": null,
   "metadata": {},
   "outputs": [
    {
     "ename": "NameError",
     "evalue": "name 'rows' is not defined",
     "output_type": "error",
     "traceback": [
      "\u001b[31m---------------------------------------------------------------------------\u001b[39m",
      "\u001b[31mNameError\u001b[39m                                 Traceback (most recent call last)",
      "\u001b[36mCell\u001b[39m\u001b[36m \u001b[39m\u001b[32mIn[27]\u001b[39m\u001b[32m, line 1\u001b[39m\n\u001b[32m----> \u001b[39m\u001b[32m1\u001b[39m good_rows = [row \u001b[38;5;28;01mfor\u001b[39;00m row \u001b[38;5;129;01min\u001b[39;00m \u001b[43mrows\u001b[49m \u001b[38;5;28;01mif\u001b[39;00m \u001b[38;5;28mlen\u001b[39m(row) == \u001b[32m5\u001b[39m]\n\u001b[32m      2\u001b[39m \u001b[38;5;66;03m#crea una nueva lista llamada good_rows. Esta nueva lista contendrá solo aquellos elementos\u001b[39;00m\n\u001b[32m      3\u001b[39m \u001b[38;5;66;03m#(que se llaman row en el código) de la lista original rows donde la longitud del elemento sea\u001b[39;00m\n\u001b[32m      4\u001b[39m \u001b[38;5;66;03m#exactamente 5\u001b[39;00m\n\u001b[32m      5\u001b[39m \u001b[38;5;66;03m# Let's check some rows\u001b[39;00m\n\u001b[32m      6\u001b[39m \u001b[38;5;28mprint\u001b[39m(good_rows[\u001b[32m0\u001b[39m], \u001b[33m'\u001b[39m\u001b[38;5;130;01m\\n\u001b[39;00m\u001b[33m'\u001b[39m)\u001b[38;5;66;03m#Imprime el primer elemento de la variable  good_rows,\u001b[39;00m\n",
      "\u001b[31mNameError\u001b[39m: name 'rows' is not defined"
     ]
    }
   ],
   "source": [
    "good_rows = [row for row in rows if len(row) == 5]\n",
    "#crea una nueva lista llamada good_rows. Esta nueva lista contendrá solo aquellos elementos\n",
    "#(que se llaman row en el código) de la lista original rows donde la longitud del elemento sea\n",
    "#exactamente 5\n",
    "# Let's check some rows\n",
    "print(good_rows[0], '\\n')#Imprime el primer elemento de la variable  good_rows,\n",
    "#seguido de un salto de linea\n",
    "print(good_rows[-2], '\\n') #Imprime el penultimo elemento de la variable  good_rows,\n",
    "#seguido de un salto de linea\n",
    "print(good_rows[-1]) #Imprime el ultimo elemento de la variable  good_rows"
   ]
  },
  {
   "cell_type": "markdown",
   "metadata": {},
   "source": [
    "We found a footer row in our list that we'd like to avoid. Let's try something else:"
   ]
  },
  {
   "cell_type": "code",
   "execution_count": 28,
   "metadata": {},
   "outputs": [
    {
     "ename": "NameError",
     "evalue": "name 'rows' is not defined",
     "output_type": "error",
     "traceback": [
      "\u001b[31m---------------------------------------------------------------------------\u001b[39m",
      "\u001b[31mNameError\u001b[39m                                 Traceback (most recent call last)",
      "\u001b[36mCell\u001b[39m\u001b[36m \u001b[39m\u001b[32mIn[28]\u001b[39m\u001b[32m, line 1\u001b[39m\n\u001b[32m----> \u001b[39m\u001b[32m1\u001b[39m \u001b[43mrows\u001b[49m[\u001b[32m2\u001b[39m].select(\u001b[33m'\u001b[39m\u001b[33mtd.detail\u001b[39m\u001b[33m'\u001b[39m) \n\u001b[32m      2\u001b[39m \u001b[38;5;66;03m#selecciona el tercer elemento (índice 2) del conjunto rows y, dentro de este, busca y\u001b[39;00m\n\u001b[32m      3\u001b[39m \u001b[38;5;66;03m#devuelve todas las celdas (<td>) que tengan la clase detail\u001b[39;00m\n",
      "\u001b[31mNameError\u001b[39m: name 'rows' is not defined"
     ]
    }
   ],
   "source": [
    "rows[2].select('td.detail') \n",
    "#selecciona el tercer elemento (índice 2) del conjunto rows y, dentro de este, busca y\n",
    "#devuelve todas las celdas (<td>) que tengan la clase detail"
   ]
  },
  {
   "cell_type": "code",
   "execution_count": null,
   "metadata": {},
   "outputs": [
    {
     "ename": "NameError",
     "evalue": "name 'rows' is not defined",
     "output_type": "error",
     "traceback": [
      "\u001b[31m---------------------------------------------------------------------------\u001b[39m",
      "\u001b[31mNameError\u001b[39m                                 Traceback (most recent call last)",
      "\u001b[36mCell\u001b[39m\u001b[36m \u001b[39m\u001b[32mIn[30]\u001b[39m\u001b[32m, line 2\u001b[39m\n\u001b[32m      1\u001b[39m \u001b[38;5;66;03m# Bad row\u001b[39;00m\n\u001b[32m----> \u001b[39m\u001b[32m2\u001b[39m \u001b[38;5;28mprint\u001b[39m(\u001b[43mrows\u001b[49m[-\u001b[32m1\u001b[39m].select(\u001b[33m'\u001b[39m\u001b[33mtd.detail\u001b[39m\u001b[33m'\u001b[39m), \u001b[33m'\u001b[39m\u001b[38;5;130;01m\\n\u001b[39;00m\u001b[33m'\u001b[39m) \n\u001b[32m      3\u001b[39m \u001b[38;5;66;03m#imprime (mostrar) el resultado de seleccionar todos los elementos <td> \u001b[39;00m\n\u001b[32m      4\u001b[39m \u001b[38;5;66;03m#con la clase \\\"detail\\\" de la última fila (rows[-1]) de una tabla, \u001b[39;00m\n\u001b[32m      5\u001b[39m \u001b[38;5;66;03m#seguido de un salto de línea\u001b[39;00m\n\u001b[32m      6\u001b[39m \n\u001b[32m      7\u001b[39m \u001b[38;5;66;03m# Good row\u001b[39;00m\n\u001b[32m      8\u001b[39m \u001b[38;5;28mprint\u001b[39m(rows[\u001b[32m5\u001b[39m].select(\u001b[33m'\u001b[39m\u001b[33mtd.detail\u001b[39m\u001b[33m'\u001b[39m), \u001b[33m'\u001b[39m\u001b[38;5;130;01m\\n\u001b[39;00m\u001b[33m'\u001b[39m)\n",
      "\u001b[31mNameError\u001b[39m: name 'rows' is not defined"
     ]
    }
   ],
   "source": [
    "# Bad row\n",
    "print(rows[-1].select('td.detail'), '\\n') \n",
    "#imprime (mostrar) el resultado de seleccionar todos los elementos <td> \n",
    "#con la clase \\\"detail\\\" de la última fila (rows[-1]) de una tabla, \n",
    "#seguido de un salto de línea\n",
    "\n",
    "# Good row\n",
    "print(rows[5].select('td.detail'), '\\n')\n",
    "#imprime (mostrar) el resultado de seleccionar todos los elementos <td> \n",
    "#con la clase \\\"detail\\\" de la fila 6 (rows[5]) de una tabla,\n",
    "#seguido de un salto de línea\n",
    "\n",
    "# How about this?\n",
    "good_rows = [row for row in rows if row.select('td.detail')]\n",
    "#En la variable good_rows  iteractua sobre una colección de elementos rows, \n",
    "#y para cada row, verifica si contiene un elemento <td> con la clase detail \n",
    "#utilizando el método select(), si esta condición es \n",
    "#verdadera, el row es incluido en el resultado\n",
    "\n",
    "print(\"Checking rows...\\n\") #Imprime un mensaje seguido de un salto de linea\n",
    "print(good_rows[0], '\\n') #Imprime el primer elemento de good_rows seguido de un salto de linea\n",
    "print(good_rows[-1]) #Imprime el ultimo elemento de good_rows"
   ]
  },
  {
   "cell_type": "markdown",
   "metadata": {},
   "source": [
    "Looks like we found something that worked!"
   ]
  },
  {
   "cell_type": "markdown",
   "metadata": {},
   "source": [
    "## Loop it All Together\n",
    "\n",
    "Now that we've seen how to get the data we want from one row, as well as filter out the rows we don't want, let's put it all together into a loop."
   ]
  },
  {
   "cell_type": "code",
   "execution_count": 31,
   "metadata": {
    "tags": []
   },
   "outputs": [
    {
     "ename": "NameError",
     "evalue": "name 'rows' is not defined",
     "output_type": "error",
     "traceback": [
      "\u001b[31m---------------------------------------------------------------------------\u001b[39m",
      "\u001b[31mNameError\u001b[39m                                 Traceback (most recent call last)",
      "\u001b[36mCell\u001b[39m\u001b[36m \u001b[39m\u001b[32mIn[31]\u001b[39m\u001b[32m, line 4\u001b[39m\n\u001b[32m      2\u001b[39m members = [] \u001b[38;5;66;03m#Forma una lista\u001b[39;00m\n\u001b[32m      3\u001b[39m \u001b[38;5;66;03m# Get rid of junk rows\u001b[39;00m\n\u001b[32m----> \u001b[39m\u001b[32m4\u001b[39m valid_rows = [row \u001b[38;5;28;01mfor\u001b[39;00m row \u001b[38;5;129;01min\u001b[39;00m \u001b[43mrows\u001b[49m \u001b[38;5;28;01mif\u001b[39;00m row.select(\u001b[33m'\u001b[39m\u001b[33mtd.detail\u001b[39m\u001b[33m'\u001b[39m)]\n\u001b[32m      5\u001b[39m \u001b[38;5;66;03m#En la variable valid_rows iteractua sobre una colección de elementos rows, \u001b[39;00m\n\u001b[32m      6\u001b[39m \u001b[38;5;66;03m#y para cada row, verifica si contiene un elemento <td> con la clase detail \u001b[39;00m\n\u001b[32m      7\u001b[39m \u001b[38;5;66;03m#utilizando el método select(), si esta condición es \u001b[39;00m\n\u001b[32m      8\u001b[39m \u001b[38;5;66;03m#verdadera, el row es incluido en el resultado\u001b[39;00m\n\u001b[32m      9\u001b[39m \u001b[38;5;66;03m# Loop through all rows\u001b[39;00m\n\u001b[32m     10\u001b[39m \u001b[38;5;28;01mfor\u001b[39;00m row \u001b[38;5;129;01min\u001b[39;00m valid_rows:\n\u001b[32m     11\u001b[39m     \u001b[38;5;66;03m# Select only those 'td' tags with class 'detail'\u001b[39;00m\n",
      "\u001b[31mNameError\u001b[39m: name 'rows' is not defined"
     ]
    }
   ],
   "source": [
    "# Define storage list\n",
    "members = [] #Forma una lista\n",
    "# Get rid of junk rows\n",
    "valid_rows = [row for row in rows if row.select('td.detail')]\n",
    "#En la variable valid_rows iteractua sobre una colección de elementos rows, \n",
    "#y para cada row, verifica si contiene un elemento <td> con la clase detail \n",
    "#utilizando el método select(), si esta condición es \n",
    "#verdadera, el row es incluido en el resultado\n",
    "# Loop through all rows\n",
    "for row in valid_rows:\n",
    "    # Select only those 'td' tags with class 'detail'\n",
    "    detail_cells = row.select('td.detail')\n",
    "    # Keep only the text in each of those cells\n",
    "    row_data = [cell.text for cell in detail_cells]\n",
    "    # Collect information\n",
    "    name = row_data[0]\n",
    "    district = int(row_data[3])\n",
    "    party = row_data[4]\n",
    "    # Store in a tuple\n",
    "    senator = (name, district, party)\n",
    "    # Append to list\n",
    "    members.append(senator)"
   ]
  },
  {
   "cell_type": "code",
   "execution_count": 32,
   "metadata": {},
   "outputs": [
    {
     "data": {
      "text/plain": [
       "0"
      ]
     },
     "execution_count": 32,
     "metadata": {},
     "output_type": "execute_result"
    }
   ],
   "source": [
    "# Should be 61\n",
    "len(members) #longitud de elementos de la variable members"
   ]
  },
  {
   "cell_type": "markdown",
   "metadata": {},
   "source": [
    "Let's take a look at what we have in `members`."
   ]
  },
  {
   "cell_type": "code",
   "execution_count": 33,
   "metadata": {},
   "outputs": [
    {
     "name": "stdout",
     "output_type": "stream",
     "text": [
      "[]\n"
     ]
    }
   ],
   "source": [
    "print(members[:5]) #Imprime los primeros cinco elemetos de la variable members"
   ]
  },
  {
   "cell_type": "markdown",
   "metadata": {},
   "source": [
    "## 🥊  Challenge: Get `href` elements pointing to members' bills \n",
    "\n",
    "The code above retrieves information on:  \n",
    "\n",
    "- the senator's name,\n",
    "- their district number,\n",
    "- and their party.\n",
    "\n",
    "We now want to retrieve the URL for each senator's list of bills. Each URL will follow a specific format. \n",
    "\n",
    "The format for the list of bills for a given senator is:\n",
    "\n",
    "`http://www.ilga.gov/senate/SenatorBills.asp?GA=98&MemberID=[MEMBER_ID]&Primary=True`\n",
    "\n",
    "to get something like:\n",
    "\n",
    "`http://www.ilga.gov/senate/SenatorBills.asp?MemberID=1911&GA=98&Primary=True`\n",
    "\n",
    "in which `MEMBER_ID=1911`. \n",
    "\n",
    "You should be able to see that, unfortunately, `MEMBER_ID` is not currently something pulled out in our scraping code.\n",
    "\n",
    "Your initial task is to modify the code above so that we also **retrieve the full URL which points to the corresponding page of primary-sponsored bills**, for each member, and return it along with their name, district, and party.\n",
    "\n",
    "Tips: \n",
    "\n",
    "* To do this, you will want to get the appropriate anchor element (`<a>`) in each legislator's row of the table. You can again use the `.select()` method on the `row` object in the loop to do this — similar to the command that finds all of the `td.detail` cells in the row. Remember that we only want the link to the legislator's bills, not the committees or the legislator's profile page.\n",
    "* The anchor elements' HTML will look like `<a href=\"/senate/Senator.asp/...\">Bills</a>`. The string in the `href` attribute contains the **relative** link we are after. You can access an attribute of a BeatifulSoup `Tag` object the same way you access a Python dictionary: `anchor['attributeName']`. See the <a href=\"http://www.crummy.com/software/BeautifulSoup/bs4/doc/#tag\">documentation</a> for more details.\n",
    "* There are a _lot_ of different ways to use BeautifulSoup to get things done. whatever you need to do to pull the `href` out is fine.\n",
    "\n",
    "The code has been partially filled out for you. Fill it in where it says `#YOUR CODE HERE`. Save the path into an object called `full_path`."
   ]
  },
  {
   "cell_type": "code",
   "execution_count": null,
   "metadata": {
    "tags": []
   },
   "outputs": [
    {
     "ename": "NameError",
     "evalue": "name 'requests' is not defined",
     "output_type": "error",
     "traceback": [
      "\u001b[31m---------------------------------------------------------------------------\u001b[39m",
      "\u001b[31mNameError\u001b[39m                                 Traceback (most recent call last)",
      "\u001b[36mCell\u001b[39m\u001b[36m \u001b[39m\u001b[32mIn[34]\u001b[39m\u001b[32m, line 2\u001b[39m\n\u001b[32m      1\u001b[39m \u001b[38;5;66;03m# Make a GET request\u001b[39;00m\n\u001b[32m----> \u001b[39m\u001b[32m2\u001b[39m req = \u001b[43mrequests\u001b[49m.get(\u001b[33m'\u001b[39m\u001b[33mhttp://www.ilga.gov/senate/default.asp?GA=98\u001b[39m\u001b[33m'\u001b[39m) \u001b[38;5;66;03m# en la variable\u001b[39;00m\n\u001b[32m      3\u001b[39m \u001b[38;5;66;03m#req hacemos una peticio get de la URL seleccionada\u001b[39;00m\n\u001b[32m      4\u001b[39m \u001b[38;5;66;03m# Read the content of the server’s response\u001b[39;00m\n\u001b[32m      5\u001b[39m src = req.text \u001b[38;5;66;03m# atributo que significa \"source\" (fuente) y se utiliza para especificar\u001b[39;00m\n",
      "\u001b[31mNameError\u001b[39m: name 'requests' is not defined"
     ]
    }
   ],
   "source": [
    "# Make a GET request\n",
    "req = requests.get('http://www.ilga.gov/senate/default.asp?GA=98') # en la variable\n",
    "#req hacemos una peticio get de la URL seleccionada\n",
    "# Read the content of the server’s response\n",
    "src = req.text # atributo que significa \"source\" (fuente) y se utiliza para especificar\n",
    "#la ruta  de un archivo externo, en este caso a un archivo txt\n",
    "# Soup it\n",
    "soup = BeautifulSoup(src, \"lxml\") #utiliza la biblioteca Beautiful Soup para analizar\n",
    "#un documento HTML o XML almacenado en la variable src, lxml especifica el analizador\n",
    "#que Beautiful Soup debe usar, en este caso, el analizador lxml\n",
    "# Create empty list to store our data\n",
    "members = [] #Crea una lista\n",
    "\n",
    "# Returns every ‘tr tr tr’ css selector in the page\n",
    "rows = soup.select('tr tr tr')\n",
    "#BeautifulSoup que utiliza selectores CSS para encontrar todos los elementos <tr> filas de\n",
    "#tabla) anidados dentro de otras filas <tr> dentro de un documento HTML. En la práctica, esta \n",
    "#expresión se usa para buscar filas específicas, a menudo para extraer datos de tablas que \n",
    "#contienen subtables, buscando filas que están dentro de otras filas de tabla\n",
    "# Get rid of junk rows\n",
    "rows = [row for row in rows if row.select('td.detail')]\n",
    "#En la variable rows iteractua sobre una colección de elementos rows,\n",
    "#y para cada row, verifica si contiene un elemento <td> con la clase detail \n",
    "#utilizando el método select(), si esta condición es \n",
    "#verdadera, el row es incluido en el resultado\n",
    "\n",
    "# Loop through all rows\n",
    "for row in rows:\n",
    "    # Select only those 'td' tags with class 'detail'\n",
    "    detail_cells = row.select('td.detail') \n",
    "    # Keep only the text in each of those cells\n",
    "    row_data = [cell.text for cell in detail_cells]\n",
    "    # Collect information\n",
    "    name = row_data[0]\n",
    "    district = int(row_data[3])\n",
    "    party = row_data[4]\n",
    "\n",
    "    # YOUR CODE HERE\n",
    "    full_path = ''\n",
    "\n",
    "    # Store in a tuple\n",
    "    senator = (name, district, party, full_path)\n",
    "    # Append to list\n",
    "    members.append(senator)"
   ]
  },
  {
   "cell_type": "code",
   "execution_count": null,
   "metadata": {
    "tags": []
   },
   "outputs": [],
   "source": [
    "# Uncomment to test \n",
    "# members[:5]"
   ]
  },
  {
   "cell_type": "markdown",
   "metadata": {},
   "source": [
    "## 🥊  Challenge: Modularize Your Code\n",
    "\n",
    "Turn the code above into a function that accepts a URL, scrapes the URL for its senators, and returns a list of tuples containing information about each senator. "
   ]
  },
  {
   "cell_type": "code",
   "execution_count": 35,
   "metadata": {
    "tags": []
   },
   "outputs": [],
   "source": [
    "# YOUR CODE HERE\n",
    "def get_members(url): #funcion para obtener los miembros\n",
    "    return [___]\n"
   ]
  },
  {
   "cell_type": "code",
   "execution_count": 37,
   "metadata": {
    "tags": []
   },
   "outputs": [
    {
     "data": {
      "text/plain": [
       "1"
      ]
     },
     "execution_count": 37,
     "metadata": {},
     "output_type": "execute_result"
    }
   ],
   "source": [
    "# Test your code\n",
    "url = 'http://www.ilga.gov/senate/default.asp?GA=98' #direccion url\n",
    "senate_members = get_members(url) #en el objeto senate_members , con el metodo get extrae\n",
    "#los miembros de la url\n",
    "len(senate_members) #longitud del contenido de la variable senate_members"
   ]
  },
  {
   "cell_type": "markdown",
   "metadata": {},
   "source": [
    "## 🥊 Take-home Challenge: Writing a Scraper Function\n",
    "\n",
    "We want to scrape the webpages corresponding to bills sponsored by each bills.\n",
    "\n",
    "Write a function called `get_bills(url)` to parse a given bills URL. This will involve:\n",
    "\n",
    "  - requesting the URL using the <a href=\"http://docs.python-requests.org/en/latest/\">`requests`</a> library\n",
    "  - using the features of the `BeautifulSoup` library to find all of the `<td>` elements with the class `billlist`\n",
    "  - return a _list_ of tuples, each with:\n",
    "      - description (2nd column)\n",
    "      - chamber (S or H) (3rd column)\n",
    "      - the last action (4th column)\n",
    "      - the last action date (5th column)\n",
    "      \n",
    "This function has been partially completed. Fill in the rest."
   ]
  },
  {
   "cell_type": "code",
   "execution_count": null,
   "metadata": {
    "tags": []
   },
   "outputs": [
    {
     "ename": "SyntaxError",
     "evalue": "invalid syntax (2408095071.py, line 14)",
     "output_type": "error",
     "traceback": [
      "  \u001b[36mCell\u001b[39m\u001b[36m \u001b[39m\u001b[32mIn[38]\u001b[39m\u001b[32m, line 14\u001b[39m\n\u001b[31m    \u001b[39m\u001b[31mbill_id =\u001b[39m\n             ^\n\u001b[31mSyntaxError\u001b[39m\u001b[31m:\u001b[39m invalid syntax\n"
     ]
    }
   ],
   "source": [
    "def get_bills(url): #funcion con metod get para extraer informacion de la url\n",
    "    src = requests.get(url).text # en el  objeto  src hace las peticiones\n",
    "    #con el metodo get de la url\n",
    "    soup = BeautifulSoup(src) #inicia la biblioteca Beautiful Soup, creando un objeto soup\n",
    "    #que representa un documento HTML o XML parseado a partir de la variable src\n",
    "    #(que contiene el contenido del HTML o XML) y lo convierte en un árbol de objetos\n",
    "    #en el que se pueden buscar y extraer datos de forma sencilla\n",
    "    rows = soup.select('tr') #estás seleccionando todos los elementos de la etiqueta <tr>\n",
    "    #(fila de tabla) en el documento HTML analizado por la librería BeautifulSoup y asignando \\n\",\n",
    "    #el resultado a la variable rows\n",
    "    bills = [] #crea una lista\n",
    "    for row in rows:\n",
    "        # YOUR CODE HERE\n",
    "        bill_id =\n",
    "        description =\n",
    "        chamber =\n",
    "        last_action =\n",
    "        last_action_date =\n",
    "        bill = (bill_id, description, chamber, last_action, last_action_date)\n",
    "        bills.append(bill)\n",
    "    return bills"
   ]
  },
  {
   "cell_type": "code",
   "execution_count": null,
   "metadata": {
    "tags": []
   },
   "outputs": [],
   "source": [
    "# Uncomment to test your code\n",
    "# test_url = senate_members[0][3]\n",
    "# get_bills(test_url)[0:5]"
   ]
  },
  {
   "cell_type": "markdown",
   "metadata": {},
   "source": [
    "### Scrape All Bills\n",
    "\n",
    "Finally, create a dictionary `bills_dict` which maps a district number (the key) onto a list of bills (the value) coming from that district. You can do this by looping over all of the senate members in `members_dict` and calling `get_bills()` for each of their associated bill URLs.\n",
    "\n",
    "**NOTE:** please call the function `time.sleep(1)` for each iteration of the loop, so that we don't destroy the state's web site."
   ]
  },
  {
   "cell_type": "code",
   "execution_count": null,
   "metadata": {
    "tags": []
   },
   "outputs": [],
   "source": [
    "# YOUR CODE HERE\n"
   ]
  },
  {
   "cell_type": "code",
   "execution_count": null,
   "metadata": {
    "tags": []
   },
   "outputs": [],
   "source": [
    "# Uncomment to test your code\n",
    "# bills_dict[52]"
   ]
  }
 ],
 "metadata": {
  "anaconda-cloud": {},
  "kernelspec": {
   "display_name": ".venv",
   "language": "python",
   "name": "python3"
  },
  "language_info": {
   "codemirror_mode": {
    "name": "ipython",
    "version": 3
   },
   "file_extension": ".py",
   "mimetype": "text/x-python",
   "name": "python",
   "nbconvert_exporter": "python",
   "pygments_lexer": "ipython3",
   "version": "3.13.7"
  }
 },
 "nbformat": 4,
 "nbformat_minor": 4
}
